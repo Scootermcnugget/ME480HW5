{
 "cells": [
  {
   "cell_type": "code",
   "execution_count": 1,
   "metadata": {},
   "outputs": [],
   "source": [
    "## Import Libraries\n",
    "import numpy as np\n",
    "import pandas as pd\n",
    "import matplotlib.pyplot as plt\n",
    "from os import listdir\n",
    "import numpy as np\n",
    "import re\n",
    "import functools\n",
    "from solid import *\n",
    "from solid.utils import *\n",
    "#from solid.objects import import_scad, use\n",
    "import viewscad\n",
    "\n",
    "r = viewscad.Renderer(openscad_exec='C:\\Program Files\\OpenSCAD\\openscad.exe')"
   ]
  },
  {
   "cell_type": "code",
   "execution_count": 2,
   "metadata": {},
   "outputs": [],
   "source": [
    "# ME 480 HW 5"
   ]
  },
  {
   "cell_type": "code",
   "execution_count": 3,
   "metadata": {},
   "outputs": [],
   "source": [
    "#pip install solidpython\n",
    "#pip install viewscad"
   ]
  },
  {
   "cell_type": "code",
   "execution_count": 4,
   "metadata": {},
   "outputs": [
    {
     "data": {
      "application/vnd.jupyter.widget-view+json": {
       "model_id": "1ea49f1414f6402184d27a1f9755af07",
       "version_major": 2,
       "version_minor": 0
      },
      "text/plain": [
       "VBox(children=(HTML(value=''), Renderer(background='#cccc88', background_opacity=0.0, camera=PerspectiveCamera…"
      ]
     },
     "metadata": {},
     "output_type": "display_data"
    }
   ],
   "source": [
    "## 1 a\n",
    "\n",
    "pipe_od = 10\n",
    "pipe_id = 5\n",
    "seg_length = 10\n",
    "outer = cylinder(r=pipe_od/2, h=seg_length)\n",
    "inner = cylinder(r=pipe_id/2, h=seg_length)\n",
    "pipe_a = outer - hole()(inner)\n",
    "r.render(pipe_a)"
   ]
  },
  {
   "cell_type": "code",
   "execution_count": 5,
   "metadata": {},
   "outputs": [
    {
     "data": {
      "application/vnd.jupyter.widget-view+json": {
       "model_id": "ad5cc09b98d8411d9f0892bc6e2e8362",
       "version_major": 2,
       "version_minor": 0
      },
      "text/plain": [
       "VBox(children=(HTML(value=''), Renderer(background='#cccc88', background_opacity=0.0, camera=PerspectiveCamera…"
      ]
     },
     "metadata": {},
     "output_type": "display_data"
    }
   ],
   "source": [
    "## 1 b\n",
    "def firstfunc(out,inn):\n",
    "    if inn >= out:\n",
    "        print (\"Your inner diameter cannot be larger than your outer diameter\")\n",
    "        return\n",
    "    seg_length = 10\n",
    "    outer = cylinder(r=out/2, h=seg_length)\n",
    "    inner = cylinder(r=inn/2, h=seg_length)\n",
    "    pipe_b = outer - hole()(inner)\n",
    "    \n",
    "    r.render(pipe_b)\n",
    "    \n",
    "firstfunc(10,5)\n"
   ]
  },
  {
   "cell_type": "code",
   "execution_count": 16,
   "metadata": {},
   "outputs": [
    {
     "data": {
      "application/vnd.jupyter.widget-view+json": {
       "model_id": "9ad31d31b8e54e28bea6c3ea070aa192",
       "version_major": 2,
       "version_minor": 0
      },
      "text/plain": [
       "VBox(children=(HTML(value=''), Renderer(background='#cccc88', background_opacity=0.0, camera=PerspectiveCamera…"
      ]
     },
     "metadata": {},
     "output_type": "display_data"
    }
   ],
   "source": [
    "## 1 c\n",
    "def carrier(out,inn,x):\n",
    "    if inn >= out:\n",
    "        return\n",
    "    seg_length = 10\n",
    "    outer=cylinder(r=out, h=seg_length)\n",
    "    inner=cylinder(r=inn, h=seg_length)\n",
    "    pipe_c=(translate(x)) (outer - hole()(inner))\n",
    "    return pipe_c\n",
    "\n",
    "\n",
    "def lineup(diams,thicks):\n",
    "    if wall <= 0:\n",
    "        return\n",
    "    for d in diameters:\n",
    "        if d <= 0:\n",
    "            return\n",
    "    inns=[x / 2 for x in diameters]\n",
    "    outs=[x + thicks for x in inns]\n",
    "    final=carrier(outs[0], inns[0], [0, 0, 0])\n",
    "    x=outs[0]\n",
    "    for i in range(len(diameters)):\n",
    "        if i==0:\n",
    "            continue\n",
    "        inn=inns[i]\n",
    "        out=outs[i]\n",
    "        x += inn\n",
    "        final=final + carrier(out, inn, [x, 0, 0])\n",
    "        x += out\n",
    "    r.render(final)\n",
    "    \n",
    "diameters=[4,8,10]\n",
    "thickness=2\n",
    "lineup(diameters, thickness)"
   ]
  },
  {
   "cell_type": "code",
   "execution_count": null,
   "metadata": {},
   "outputs": [],
   "source": []
  }
 ],
 "metadata": {
  "kernelspec": {
   "display_name": "Python 3",
   "language": "python",
   "name": "python3"
  },
  "language_info": {
   "codemirror_mode": {
    "name": "ipython",
    "version": 3
   },
   "file_extension": ".py",
   "mimetype": "text/x-python",
   "name": "python",
   "nbconvert_exporter": "python",
   "pygments_lexer": "ipython3",
   "version": "3.7.3"
  }
 },
 "nbformat": 4,
 "nbformat_minor": 2
}
