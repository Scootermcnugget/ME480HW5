{
 "cells": [
  {
   "cell_type": "code",
   "execution_count": 1,
   "metadata": {},
   "outputs": [],
   "source": [
    "## Import Libraries\n",
    "import numpy as np\n",
    "import pandas as pd\n",
    "import matplotlib.pyplot as plt\n",
    "from os import listdir\n",
    "import numpy as np\n",
    "import re\n",
    "import functools\n",
    "from solid import *\n",
    "from solid.utils import *\n",
    "#from solid.objects import import_scad, use\n",
    "import viewscad\n",
    "\n",
    "r = viewscad.Renderer(openscad_exec='C:\\Program Files\\OpenSCAD\\openscad.exe')"
   ]
  },
  {
   "cell_type": "code",
   "execution_count": 2,
   "metadata": {},
   "outputs": [],
   "source": [
    "# ME 480 HW 5"
   ]
  },
  {
   "cell_type": "code",
   "execution_count": 3,
   "metadata": {},
   "outputs": [],
   "source": [
    "#pip install solidpython\n",
    "#pip install viewscad"
   ]
  },
  {
   "cell_type": "code",
   "execution_count": 4,
   "metadata": {},
   "outputs": [
    {
     "data": {
      "application/vnd.jupyter.widget-view+json": {
       "model_id": "71c22310a3ed4a33bee9f4108fbffce1",
       "version_major": 2,
       "version_minor": 0
      },
      "text/plain": [
       "VBox(children=(HTML(value=''), Renderer(background='#cccc88', background_opacity=0.0, camera=PerspectiveCamera…"
      ]
     },
     "metadata": {},
     "output_type": "display_data"
    }
   ],
   "source": [
    "## 1 a\n",
    "\n",
    "pipe_or = 10\n",
    "pipe_ir = 5\n",
    "seg_length = 10\n",
    "outer = cylinder(r=pipe_or, h=seg_length)\n",
    "inner = cylinder(r=pipe_ir, h=seg_length)\n",
    "pipe_a = outer - hole()(inner)\n",
    "r.render(pipe_a)"
   ]
  },
  {
   "cell_type": "code",
   "execution_count": 5,
   "metadata": {},
   "outputs": [
    {
     "data": {
      "application/vnd.jupyter.widget-view+json": {
       "model_id": "a1633cb3db3c4c7dae553a2c8a5b7654",
       "version_major": 2,
       "version_minor": 0
      },
      "text/plain": [
       "VBox(children=(HTML(value=''), Renderer(background='#cccc88', background_opacity=0.0, camera=PerspectiveCamera…"
      ]
     },
     "metadata": {},
     "output_type": "display_data"
    }
   ],
   "source": [
    "## 1 b\n",
    "def firstfunc(out,inn):\n",
    "    if inn >= out:\n",
    "        print (\"Your inner diameter cannot be larger than your outer diameter\")\n",
    "        return\n",
    "    if inn < 0:\n",
    "        print (\"You cannot have a negative inner diameter\")\n",
    "        return\n",
    "    if out <= 0:\n",
    "        print (\"You cannot have a negative diameter\")\n",
    "        return\n",
    "    seg_length = 10\n",
    "    outer = cylinder(r=out/2, h=seg_length)\n",
    "    inner = cylinder(r=inn/2, h=seg_length)\n",
    "    pipe_b = outer - hole()(inner)\n",
    "    \n",
    "    r.render(pipe_b)\n",
    "    \n",
    "firstfunc(10,5)\n"
   ]
  },
  {
   "cell_type": "code",
   "execution_count": 6,
   "metadata": {},
   "outputs": [
    {
     "data": {
      "application/vnd.jupyter.widget-view+json": {
       "model_id": "3d6452d714cb4c27bf3f2c86e762cd1e",
       "version_major": 2,
       "version_minor": 0
      },
      "text/plain": [
       "VBox(children=(HTML(value=''), Renderer(background='#cccc88', background_opacity=0.0, camera=PerspectiveCamera…"
      ]
     },
     "metadata": {},
     "output_type": "display_data"
    }
   ],
   "source": [
    "## 1 c\n",
    "def carrier(out,inn,x):\n",
    "    if inn >= out:\n",
    "        return\n",
    "    seg_length = 10\n",
    "    outer=cylinder(r=out, h=seg_length)\n",
    "    inner=cylinder(r=inn, h=seg_length)\n",
    "    pipe_c=(translate(x)) (outer - hole()(inner))\n",
    "    return pipe_c\n",
    "\n",
    "\n",
    "def lineup(diams,thicks):\n",
    "    if thickness <= 0:\n",
    "        return\n",
    "    for d in diameters:\n",
    "        if d <= 0:\n",
    "            return\n",
    "    inns=[x / 2 for x in diameters]\n",
    "    outs=[x + thicks for x in inns]\n",
    "    final=carrier(outs[0], inns[0], [0, 0, 0])\n",
    "    x=outs[0]\n",
    "    for i in range(len(diameters)):\n",
    "        if i==0:\n",
    "            continue\n",
    "        inn=inns[i]\n",
    "        out=outs[i]\n",
    "        x += inn\n",
    "        final=final + carrier(out, inn, [x, 0, 0])\n",
    "        x += out\n",
    "    r.render(final)\n",
    "    \n",
    "diameters=[4,8,10]\n",
    "thickness=2\n",
    "lineup(diameters, thickness)"
   ]
  },
  {
   "cell_type": "code",
   "execution_count": 7,
   "metadata": {},
   "outputs": [
    {
     "data": {
      "application/vnd.jupyter.widget-view+json": {
       "model_id": "4405bfac90a34118979adc401d7bfff5",
       "version_major": 2,
       "version_minor": 0
      },
      "text/plain": [
       "VBox(children=(HTML(value=''), Renderer(background='#cccc88', background_opacity=0.0, camera=PerspectiveCamera…"
      ]
     },
     "metadata": {},
     "output_type": "display_data"
    }
   ],
   "source": [
    "## 2a\n",
    "## 1 a\n",
    "\n",
    "pipe_or = 10\n",
    "pipe_ir = 5\n",
    "seg_length = 10\n",
    "outer = cylinder(r=pipe_or, h=seg_length)\n",
    "inner = cylinder(r=pipe_ir, h=seg_length)\n",
    "pipe_2a = outer - hole()(inner)\n",
    "r.render(pipe_2a)"
   ]
  },
  {
   "cell_type": "code",
   "execution_count": 8,
   "metadata": {},
   "outputs": [
    {
     "ename": "NameError",
     "evalue": "name 'separ' is not defined",
     "output_type": "error",
     "traceback": [
      "\u001b[1;31m---------------------------------------------------------------------------\u001b[0m",
      "\u001b[1;31mNameError\u001b[0m                                 Traceback (most recent call last)",
      "\u001b[1;32m<ipython-input-8-cffe9429af80>\u001b[0m in \u001b[0;36m<module>\u001b[1;34m\u001b[0m\n\u001b[0;32m      7\u001b[0m     \u001b[1;32mreturn\u001b[0m \u001b[0mpipe_2b\u001b[0m\u001b[1;33m\u001b[0m\u001b[1;33m\u001b[0m\u001b[0m\n\u001b[0;32m      8\u001b[0m \u001b[0mc1\u001b[0m \u001b[1;33m=\u001b[0m \u001b[0mcylinder\u001b[0m\u001b[1;33m(\u001b[0m\u001b[1;33m(\u001b[0m\u001b[0mmax\u001b[0m\u001b[1;33m(\u001b[0m\u001b[0mdiameters\u001b[0m\u001b[1;33m)\u001b[0m\u001b[1;33m/\u001b[0m\u001b[1;36m2\u001b[0m\u001b[1;33m)\u001b[0m\u001b[1;33m+\u001b[0m\u001b[1;36m2\u001b[0m\u001b[1;33m,\u001b[0m\u001b[0mseg_length\u001b[0m\u001b[1;33m/\u001b[0m\u001b[1;36m4\u001b[0m\u001b[1;33m)\u001b[0m\u001b[1;33m\u001b[0m\u001b[1;33m\u001b[0m\u001b[0m\n\u001b[1;32m----> 9\u001b[1;33m \u001b[0mc2\u001b[0m \u001b[1;33m=\u001b[0m \u001b[0mtranslate\u001b[0m\u001b[1;33m(\u001b[0m\u001b[1;33m[\u001b[0m\u001b[1;33m(\u001b[0m\u001b[0msepar\u001b[0m\u001b[1;33m*\u001b[0m\u001b[1;33m(\u001b[0m\u001b[0mlen\u001b[0m\u001b[1;33m(\u001b[0m\u001b[0mdiameters\u001b[0m\u001b[1;33m)\u001b[0m\u001b[1;33m-\u001b[0m\u001b[1;36m1\u001b[0m\u001b[1;33m)\u001b[0m\u001b[1;33m)\u001b[0m\u001b[1;33m,\u001b[0m\u001b[1;36m0\u001b[0m\u001b[1;33m,\u001b[0m\u001b[1;36m0\u001b[0m\u001b[1;33m]\u001b[0m\u001b[1;33m)\u001b[0m\u001b[1;33m(\u001b[0m\u001b[0mc1\u001b[0m\u001b[1;33m)\u001b[0m\u001b[1;33m\u001b[0m\u001b[1;33m\u001b[0m\u001b[0m\n\u001b[0m\u001b[0;32m     10\u001b[0m \u001b[0my\u001b[0m \u001b[1;33m=\u001b[0m \u001b[0mhull\u001b[0m\u001b[1;33m(\u001b[0m\u001b[1;33m)\u001b[0m\u001b[1;33m(\u001b[0m\u001b[0mc1\u001b[0m\u001b[1;33m,\u001b[0m\u001b[0mc2\u001b[0m\u001b[1;33m)\u001b[0m\u001b[1;33m\u001b[0m\u001b[1;33m\u001b[0m\u001b[0m\n\u001b[0;32m     11\u001b[0m \u001b[1;33m\u001b[0m\u001b[0m\n",
      "\u001b[1;31mNameError\u001b[0m: name 'separ' is not defined"
     ]
    }
   ],
   "source": [
    "## 2b\n",
    "separ=10\n",
    "def carrier(out,separ):\n",
    "    if out <= 0:\n",
    "        return\n",
    "    outer=cylinder(r=out/2, h=seg_length)\n",
    "    pipe_2b=(translate(separ)) (outer)\n",
    "    return pipe_2b\n",
    "c1 = cylinder((max(diameters)/2)+2,seg_length/4)\n",
    "c2 = translate([(separ*(len(diameters)-1)),0,0])(c1)\n",
    "y = hull()(c1,c2)\n",
    "\n",
    "\n",
    "def lineup(diams,thicks):\n",
    "    for d in diameters:\n",
    "        if d <= 0:\n",
    "            return\n",
    "    outs=[x for x in diameters]\n",
    "    final=carrier(outs[0], [0, 0, 0])\n",
    "    x=outs[0]\n",
    "    for i in range(len(diameters)):\n",
    "        if i==0:\n",
    "            continue\n",
    "        out=outs[i]\n",
    "        final=final + carrier(out,[separ*i, 0, 0])\n",
    "    r.render(final+y)\n",
    "    \n",
    "diameters=[4,8,10]\n",
    "separ=10\n",
    "seg_length=8\n",
    "lineup(diameters, separ)"
   ]
  },
  {
   "cell_type": "code",
   "execution_count": null,
   "metadata": {},
   "outputs": [],
   "source": [
    "c1 = cylinder(1,1)\n",
    "c2 = translate([10,0,0])(c1)\n",
    "y = hull()(c1,c2)\n",
    "r.render(y)\n"
   ]
  },
  {
   "cell_type": "code",
   "execution_count": null,
   "metadata": {},
   "outputs": [],
   "source": []
  }
 ],
 "metadata": {
  "kernelspec": {
   "display_name": "Python 3",
   "language": "python",
   "name": "python3"
  },
  "language_info": {
   "codemirror_mode": {
    "name": "ipython",
    "version": 3
   },
   "file_extension": ".py",
   "mimetype": "text/x-python",
   "name": "python",
   "nbconvert_exporter": "python",
   "pygments_lexer": "ipython3",
   "version": "3.7.3"
  }
 },
 "nbformat": 4,
 "nbformat_minor": 2
}
