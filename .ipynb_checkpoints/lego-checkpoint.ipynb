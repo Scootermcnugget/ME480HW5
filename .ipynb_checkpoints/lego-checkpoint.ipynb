{
 "cells": [
  {
   "cell_type": "code",
   "execution_count": 1,
   "metadata": {},
   "outputs": [],
   "source": [
    "## Import Libraries\n",
    "import numpy as np\n",
    "import pandas as pd\n",
    "import matplotlib.pyplot as plt\n",
    "from os import listdir\n",
    "import numpy as np\n",
    "import math\n",
    "import re\n",
    "import functools\n",
    "from solid import *\n",
    "from solid.utils import *\n",
    "#from solid.objects import import_scad, use\n",
    "import viewscad\n",
    "\n",
    "r = viewscad.Renderer(openscad_exec='C:\\Program Files\\OpenSCAD\\openscad.exe')"
   ]
  },
  {
   "cell_type": "code",
   "execution_count": 2,
   "metadata": {},
   "outputs": [
    {
     "data": {
      "application/vnd.jupyter.widget-view+json": {
       "model_id": "b76df98cc7864784bdb8eee350f16cfd",
       "version_major": 2,
       "version_minor": 0
      },
      "text/plain": [
       "VBox(children=(HTML(value=''), Renderer(background='#cccc88', background_opacity=0.0, camera=PerspectiveCamera…"
      ]
     },
     "metadata": {},
     "output_type": "display_data"
    }
   ],
   "source": [
    "## Lego number 1\n",
    "OD=7.4\n",
    "ID=4.7\n",
    "OR=OD/2\n",
    "IR=ID/2\n",
    "seg_length=7.8\n",
    "c_c = 7.9\n",
    "\n",
    "def carrier_1(OR,c,seg_length):\n",
    "    base = cylinder(OR,h = seg_length)\n",
    "    Body = (translate(c))(base)\n",
    "    return Body\n",
    "\n",
    "def carrier_2(OR,c,seg_length):\n",
    "    holes = cylinder(IR,h = seg_length)\n",
    "    Body = (translate(c))(holes)\n",
    "    return Body\n",
    "\n",
    "def lego_piece(width,length):\n",
    "    total_holes = width*length\n",
    "    piece = []\n",
    "    x = []\n",
    "    y = []\n",
    "    for i in range(width):\n",
    "        x.append(i)\n",
    "        piece = piece + carrier_1(OR,[x[i]*c_c,0,0],seg_length)\n",
    "    for i in range(length):\n",
    "        y.append(i)\n",
    "        piece = piece + carrier_1(OR,[0,y[i]*c_c,0],seg_length)\n",
    "    c1 = cylinder(OR,seg_length)\n",
    "    c2 = translate([(((width-2)*c_c)+ID+(OD-ID)),0,0])(c1)\n",
    "    c3 = translate([((width-2)*c_c)+ID+(OD-ID),((length-2)*c_c)+ID+(OD-ID),0])(c1)\n",
    "    c4 = translate([0,(((length-2)*c_c)+ID+(OD-ID)),0])(c1)\n",
    "\n",
    "    piece = hull()(c1,c2,c3,c4)\n",
    "    for j in range(width):\n",
    "        for i in range(length):\n",
    "            x.append(j)\n",
    "            y.append(i)\n",
    "            piece = piece - carrier_2(IR,[x[j]*c_c,y[i]*c_c,0],seg_length)\n",
    "    \n",
    "    r.render(piece)\n",
    "    return piece       \n",
    "piece_1 = lego_piece(2,4)"
   ]
  },
  {
   "cell_type": "code",
   "execution_count": 3,
   "metadata": {},
   "outputs": [
    {
     "data": {
      "application/vnd.jupyter.widget-view+json": {
       "model_id": "66a6d9ad32644e3195627e3a2bf2955b",
       "version_major": 2,
       "version_minor": 0
      },
      "text/plain": [
       "VBox(children=(HTML(value=''), Renderer(background='#cccc88', background_opacity=0.0, camera=PerspectiveCamera…"
      ]
     },
     "metadata": {},
     "output_type": "display_data"
    },
    {
     "data": {
      "application/vnd.jupyter.widget-view+json": {
       "model_id": "288f0460f407452a90f04cfb216dd56c",
       "version_major": 2,
       "version_minor": 0
      },
      "text/plain": [
       "VBox(children=(HTML(value=''), Renderer(background='#cccc88', background_opacity=0.0, camera=PerspectiveCamera…"
      ]
     },
     "metadata": {},
     "output_type": "display_data"
    }
   ],
   "source": [
    "## 1 bonus problem\n",
    "# 1a Bonus\n",
    "thickness = 1.8\n",
    "wideness = 4.6\n",
    "def crosses(w,l,locations_along_x,locations_along_y):\n",
    "    placeholder = []\n",
    "    piece = lego_piece(w,l)\n",
    "    half_1 = cube([thickness,wideness,seg_length*2], center = True)\n",
    "    half_2 = cube([wideness,thickness,seg_length*2], center = True)\n",
    "    cross = half_1+half_2\n",
    "    for i in range(len(locations_along_x)):\n",
    "        for j in range(len(locations_along_y)):\n",
    "            placeholder = placeholder + carrier_2(IR,[(locations_along_x[i]-1)*c_c,(locations_along_y[j]-1)*c_c,0],seg_length)  \n",
    "            placeholder = placeholder - translate([(locations_along_x[i]-1)*c_c,(locations_along_y[j]-1)*c_c,0])(cross)\n",
    "    body = piece + placeholder\n",
    "    r.render(body)\n",
    "crosses(4,4,[3, 1],[3,2])"
   ]
  },
  {
   "cell_type": "code",
   "execution_count": 22,
   "metadata": {},
   "outputs": [
    {
     "data": {
      "application/vnd.jupyter.widget-view+json": {
       "model_id": "1d07d5d983db4fd8be06aca073d08f44",
       "version_major": 2,
       "version_minor": 0
      },
      "text/plain": [
       "VBox(children=(HTML(value=''), Renderer(background='#cccc88', background_opacity=0.0, camera=PerspectiveCamera…"
      ]
     },
     "metadata": {},
     "output_type": "display_data"
    }
   ],
   "source": [
    "## problem 2\n",
    "def carrier_1pt2(OR,c,seg_length):\n",
    "    if OR <= 0:\n",
    "        return\n",
    "    outer = cylinder(OR,h = seg_length, center = True)\n",
    "    Body = (translate(c)) (outer)\n",
    "    return Body\n",
    "\n",
    "def carrier_2pt2(IR,c,seg_length):\n",
    "    if IR <= 0:\n",
    "        return\n",
    "    inner = cylinder(IR,h = seg_length,  center = True)\n",
    "    Body = (translate(c))(inner)\n",
    "    return Body\n",
    "\n",
    "def motor_mount(standard_num):\n",
    "    sizes = [8,11,14,17,23,34,42]\n",
    "    n=sizes.index(standard_num)\n",
    "    Motor_size = list(map(lambda x:x/(10)*25.4, sizes))\n",
    "    M = Motor_size[n]\n",
    "    Bolt_hole_dis = [16,23,26,31,47.14,69.7,88.9]\n",
    "    B = Bolt_hole_dis[n]\n",
    "    Motor_shaft_di = [4,5,5,5,6.35,9.5,16]\n",
    "    Md = Motor_shaft_di[n]\n",
    "    bolt_hole = [3,4,4,2.8448,5,5.5,7.1374]\n",
    "    Bh = bolt_hole[n]\n",
    "    edge_in = math.ceil(Motor_size[n]) + 4*OR\n",
    "    def outside(edge_in):\n",
    "        c1=carrier_1pt2(OR,[edge_in,0,0],seg_length)\n",
    "        c2=carrier_1pt2(OR,[edge_in,edge_in,0],seg_length)\n",
    "        c3=carrier_1pt2(OR,[0,edge_in,0],seg_length)\n",
    "        c4=carrier_1pt2(OR,[0,0,0],seg_length)\n",
    "        c_tot = hull()(c1,c2,c3,c4)\n",
    "        return c_tot\n",
    "    out=outside(edge_in)\n",
    "    \n",
    "    def lego_holes(edge_in):\n",
    "        locations = math.floor(edge_in/c_c)\n",
    "        mt = []\n",
    "        for i in range(locations):\n",
    "            mt = mt+carrier_2pt2(IR,[c_c*i,0,0],seg_length)\n",
    "            mt = mt+carrier_2pt2(IR,[edge_in,edge_in-c_c*i,0],seg_length)\n",
    "            mt = mt+carrier_2pt2(IR,[0,c_c*i,0],seg_length)\n",
    "            mt = mt+carrier_2pt2(IR,[edge_in-c_c*i,edge_in,0],seg_length)\n",
    "        return mt\n",
    "    legos=lego_holes(edge_in)\n",
    "    \n",
    "    def screws(bolt_hole,hole):\n",
    "        mt = []\n",
    "        mt = mt+carrier_2pt2(bolt_hole/2,[(edge_in-hole)/2+hole,(edge_in-hole)/2,0],seg_length)\n",
    "        mt = mt+carrier_2pt2(bolt_hole/2,[(edge_in-hole)/2+hole,(edge_in-hole)/2+hole,0],seg_length)\n",
    "        mt = mt+carrier_2pt2(bolt_hole/2,[(edge_in-hole)/2,(edge_in-hole)/2+hole,0],seg_length)\n",
    "        mt = mt+carrier_2pt2(bolt_hole/2,[(edge_in-hole)/2,(edge_in-hole)/2,0],seg_length)\n",
    "        return mt\n",
    "    screw_holes=screws(Bh,B)\n",
    "    \n",
    "    def center(size):\n",
    "        hole = carrier_2pt2(size,[edge_in/2,edge_in/2,0],seg_length)\n",
    "        return hole\n",
    "    \n",
    "    center_hole = center(Md)\n",
    "#     motor_hole = middle_hole(Md)\n",
    "    complete = out-legos-screw_holes-center_hole\n",
    "    r.render(complete)\n",
    "\n",
    "motor_mount(42)\n",
    "    \n",
    "    \n",
    "    "
   ]
  },
  {
   "cell_type": "code",
   "execution_count": 57,
   "metadata": {},
   "outputs": [
    {
     "data": {
      "application/vnd.jupyter.widget-view+json": {
       "model_id": "04eff181fdb8448198a51e5168778538",
       "version_major": 2,
       "version_minor": 0
      },
      "text/plain": [
       "VBox(children=(HTML(value=''), Renderer(background='#cccc88', background_opacity=0.0, camera=PerspectiveCamera…"
      ]
     },
     "metadata": {},
     "output_type": "display_data"
    }
   ],
   "source": [
    "## part 3\n",
    "\n",
    "def posts(number,seg_length):\n",
    "    c1 = cylinder(IR+1, 2, center = True)\n",
    "    c2 = translate ([(c_c*(number-1)),0,0])(c1)\n",
    "    base = hull()(c1,c2)\n",
    "    rods = []\n",
    "    for i in range(number):\n",
    "        rods.append(translate([c_c*i,0,0])(cylinder(ID/2,seg_length,center = True)))\n",
    "        lift = translate([0,0,seg_length/2])(rods) \n",
    "    body = base + lift\n",
    "    centered = translate([-c_c,0,0])(body)\n",
    "    thickness = 2\n",
    "    post_length = 30\n",
    "    def coupler(nema_std):\n",
    "        nema = [8,11,14,17,23,34,42]\n",
    "        i = nema.index(nema_std)\n",
    "        shaft_size = [4,5,5,5,6.35,9.5,16]\n",
    "        shaft_length = [0.81,0.81,0.81, 0.945, 0.81,1.25,1.38]\n",
    "        shaft_length_in_mm = list(map(lambda x: x*25.4, shaft_length))\n",
    "        height = shaft_length_in_mm[i]\n",
    "        shaft = shaft_size[i]\n",
    "        c1 = cylinder(shaft+thickness, h=height, center=True)\n",
    "        c2 = cylinder(shaft, h=height, center=True)\n",
    "        centered_up = translate ([0,0,2+(height/2)])(centered)\n",
    "        cap = cylinder(shaft+thickness,h=2, center = True)\n",
    "        cap_up = translate([0,0,(height/2)])(cap)\n",
    "        total = (c1-c2+centered_up+cap_up)\n",
    "        r.render(total)\n",
    "    coupler(11)\n",
    "    return body\n",
    "\n",
    "posts = posts(3,seg_length)"
   ]
  },
  {
   "cell_type": "code",
   "execution_count": null,
   "metadata": {},
   "outputs": [],
   "source": []
  }
 ],
 "metadata": {
  "kernelspec": {
   "display_name": "Python 3",
   "language": "python",
   "name": "python3"
  },
  "language_info": {
   "codemirror_mode": {
    "name": "ipython",
    "version": 3
   },
   "file_extension": ".py",
   "mimetype": "text/x-python",
   "name": "python",
   "nbconvert_exporter": "python",
   "pygments_lexer": "ipython3",
   "version": "3.7.3"
  }
 },
 "nbformat": 4,
 "nbformat_minor": 2
}
