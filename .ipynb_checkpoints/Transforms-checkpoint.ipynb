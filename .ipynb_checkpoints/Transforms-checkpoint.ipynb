{
 "cells": [
  {
   "cell_type": "code",
   "execution_count": 1,
   "metadata": {},
   "outputs": [],
   "source": [
    "## Import Libraries\n",
    "import numpy as np\n",
    "import pandas as pd\n",
    "import matplotlib.pyplot as plt\n",
    "from os import listdir\n",
    "import numpy as np\n",
    "import math\n",
    "import re\n",
    "import functools\n",
    "from solid import *\n",
    "from solid.utils import *\n",
    "#from solid.objects import import_scad, use\n",
    "import viewscad\n",
    "\n",
    "r = viewscad.Renderer(openscad_exec='C:\\Program Files\\OpenSCAD\\openscad.exe')"
   ]
  },
  {
   "cell_type": "code",
   "execution_count": 2,
   "metadata": {},
   "outputs": [
    {
     "data": {
      "application/vnd.jupyter.widget-view+json": {
       "model_id": "b373e9b8fd2b4a2a913ba4b5cb919297",
       "version_major": 2,
       "version_minor": 0
      },
      "text/plain": [
       "VBox(children=(HTML(value=''), Renderer(background='#cccc88', background_opacity=0.0, camera=PerspectiveCamera…"
      ]
     },
     "metadata": {},
     "output_type": "display_data"
    }
   ],
   "source": [
    "## Problem 3, pt a\n",
    "c1 = cube(1,True)\n",
    "\n",
    "def rotation_first (t1,t2,t3) :\n",
    "    Rotation = np.array([[(math.cos(t1)*math.cos(t3))-(math.cos(t2)*math.sin(t1)*math.sin(t3)), (-math.cos(t1)*math.sin(t3))-(math.cos(t2)*math.cos(t3)*math.sin(t1)), math.sin(t1)*math.sin(t2)],\n",
    "                    [(math.cos(t3)*math.sin(t1))+(math.cos(t1)*math.cos(t2)*math.sin(t3)), (math.cos(t1)*math.cos(t2)*math.cos(t3))-(math.sin(t1)*math.sin(t3)), -math.cos(t1)*math.sin(t2) ],\n",
    "                    [math.sin(t2)*math.sin(t3), math.cos(t3)*math.sin(t2), math.cos(t2)  ]\n",
    "                    ])\n",
    "    return Rotation                 \n",
    "\n",
    "    \n",
    "R = rotation_first (20*pi/180,10*pi/180,30*pi/180)\n",
    "rotated = multmatrix(R)(c1)\n",
    "\n",
    "r.render(rotated)"
   ]
  },
  {
   "cell_type": "code",
   "execution_count": 3,
   "metadata": {},
   "outputs": [
    {
     "data": {
      "application/vnd.jupyter.widget-view+json": {
       "model_id": "ff5a06b0b67c4381846458922acd921d",
       "version_major": 2,
       "version_minor": 0
      },
      "text/plain": [
       "VBox(children=(HTML(value=''), Renderer(background='#cccc88', background_opacity=0.0, camera=PerspectiveCamera…"
      ]
     },
     "metadata": {},
     "output_type": "display_data"
    }
   ],
   "source": [
    "#1 b\n",
    "trans=translate([5,5,0])(c1)\n",
    "rotated = multmatrix(R)(trans)\n",
    "final_trans = translate([-5,-5,0])(rotated)\n",
    "r.render(final_trans)"
   ]
  },
  {
   "cell_type": "code",
   "execution_count": 10,
   "metadata": {},
   "outputs": [
    {
     "data": {
      "application/vnd.jupyter.widget-view+json": {
       "model_id": "d874d842c8a2464a9f78943f62dc7da1",
       "version_major": 2,
       "version_minor": 0
      },
      "text/plain": [
       "VBox(children=(HTML(value=''), Renderer(background='#cccc88', background_opacity=0.0, camera=PerspectiveCamera…"
      ]
     },
     "metadata": {},
     "output_type": "display_data"
    },
    {
     "data": {
      "application/vnd.jupyter.widget-view+json": {
       "model_id": "df96090b00d740579badb0d64831a26b",
       "version_major": 2,
       "version_minor": 0
      },
      "text/plain": [
       "VBox(children=(HTML(value=''), Renderer(background='#cccc88', background_opacity=0.0, camera=PerspectiveCamera…"
      ]
     },
     "metadata": {},
     "output_type": "display_data"
    },
    {
     "data": {
      "application/vnd.jupyter.widget-view+json": {
       "model_id": "961a32e76750448aa965e485323acaea",
       "version_major": 2,
       "version_minor": 0
      },
      "text/plain": [
       "VBox(children=(HTML(value=''), Renderer(background='#cccc88', background_opacity=0.0, camera=PerspectiveCamera…"
      ]
     },
     "metadata": {},
     "output_type": "display_data"
    }
   ],
   "source": [
    "#1 c\n",
    "cube_c = cube(1)\n",
    "shear_x = ([[1, 0.5],\n",
    "           [0, 1]])\n",
    "shearing1 = multmatrix(shear_x)(cube_c)\n",
    "r.render(shearing1)\n",
    "shear_y = ([[1, 0],\n",
    "           [0.5, 1]])\n",
    "shearing2 = multmatrix(shear_y)(shearing1)\n",
    "r.render(shearing2)\n",
    "shear_z = ([[1, 0, 0],\n",
    "           [0, 1, 0],\n",
    "           [0, 0.5, 1]])\n",
    "shearing3 = multmatrix(shear_z)(shearing2)\n",
    "r.render(shearing3)\n"
   ]
  },
  {
   "cell_type": "code",
   "execution_count": null,
   "metadata": {},
   "outputs": [],
   "source": []
  }
 ],
 "metadata": {
  "kernelspec": {
   "display_name": "Python 3",
   "language": "python",
   "name": "python3"
  },
  "language_info": {
   "codemirror_mode": {
    "name": "ipython",
    "version": 3
   },
   "file_extension": ".py",
   "mimetype": "text/x-python",
   "name": "python",
   "nbconvert_exporter": "python",
   "pygments_lexer": "ipython3",
   "version": "3.7.3"
  }
 },
 "nbformat": 4,
 "nbformat_minor": 2
}
